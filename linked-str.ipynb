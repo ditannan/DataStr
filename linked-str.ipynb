{
 "cells": [
  {
   "cell_type": "markdown",
   "metadata": {},
   "source": [
    "# Linked structure"
   ]
  },
  {
   "cell_type": "markdown",
   "metadata": {},
   "source": [
    "## 定义一个单链表节点类"
   ]
  },
  {
   "cell_type": "code",
   "execution_count": 1,
   "metadata": {},
   "outputs": [],
   "source": [
    "class Node():\n",
    "    \"\"\"Represents a singly linked node.\"\"\"\n",
    "    \n",
    "    def __init__(self, data, next = None):\n",
    "        \"\"\"Instantiates a Node with a default next of None.\"\"\"\n",
    "        self.data = data\n",
    "        self.next = next"
   ]
  },
  {
   "cell_type": "markdown",
   "metadata": {},
   "source": [
    "## 使用单链表节点类"
   ]
  },
  {
   "cell_type": "code",
   "execution_count": 2,
   "metadata": {},
   "outputs": [],
   "source": [
    "# Just an empty link\n",
    "node1 = None\n",
    "\n",
    "# A node containing data and an empty link\n",
    "node2 = Node(\"A\", None)\n",
    "\n",
    "# A node containing data and a link to node2\n",
    "node3 = Node(\"B\", node2)"
   ]
  },
  {
   "cell_type": "code",
   "execution_count": 3,
   "metadata": {},
   "outputs": [
    {
     "name": "stdout",
     "output_type": "stream",
     "text": [
      "None\n"
     ]
    }
   ],
   "source": [
    "print(node1)"
   ]
  },
  {
   "cell_type": "code",
   "execution_count": 4,
   "metadata": {},
   "outputs": [
    {
     "name": "stdout",
     "output_type": "stream",
     "text": [
      "<__main__.Node object at 0x105455e10>\n"
     ]
    }
   ],
   "source": [
    "print(node2)"
   ]
  },
  {
   "cell_type": "code",
   "execution_count": 5,
   "metadata": {},
   "outputs": [
    {
     "name": "stdout",
     "output_type": "stream",
     "text": [
      "<__main__.Node object at 0x105455e48>\n"
     ]
    }
   ],
   "source": [
    "print(node3)"
   ]
  },
  {
   "cell_type": "markdown",
   "metadata": {},
   "source": [
    "### 在已经包含node2, node3节点的链表结构的开头位置添加第1个节点"
   ]
  },
  {
   "cell_type": "code",
   "execution_count": 6,
   "metadata": {},
   "outputs": [
    {
     "ename": "AttributeError",
     "evalue": "'NoneType' object has no attribute 'next'",
     "output_type": "error",
     "traceback": [
      "\u001b[0;31m---------------------------------------------------------------------------\u001b[0m",
      "\u001b[0;31mAttributeError\u001b[0m                            Traceback (most recent call last)",
      "\u001b[0;32m<ipython-input-6-1a515b3a65f7>\u001b[0m in \u001b[0;36m<module>\u001b[0;34m()\u001b[0m\n\u001b[0;32m----> 1\u001b[0;31m \u001b[0mnode1\u001b[0m\u001b[0;34m.\u001b[0m\u001b[0mnext\u001b[0m \u001b[0;34m=\u001b[0m \u001b[0mnode3\u001b[0m\u001b[0;34m\u001b[0m\u001b[0m\n\u001b[0m",
      "\u001b[0;31mAttributeError\u001b[0m: 'NoneType' object has no attribute 'next'"
     ]
    }
   ],
   "source": [
    "node1.next = node3"
   ]
  },
  {
   "cell_type": "markdown",
   "metadata": {},
   "source": [
    "因为node1不包含next方法."
   ]
  },
  {
   "cell_type": "code",
   "execution_count": 7,
   "metadata": {},
   "outputs": [],
   "source": [
    "node1 = Node(\"C\", None)\n",
    "\n",
    "node1.next = node3"
   ]
  },
  {
   "cell_type": "markdown",
   "metadata": {},
   "source": [
    "## 使用Node类创建一个单链表结构"
   ]
  },
  {
   "cell_type": "code",
   "execution_count": 8,
   "metadata": {},
   "outputs": [
    {
     "name": "stdout",
     "output_type": "stream",
     "text": [
      "<__main__.Node object at 0x105478eb8>\n",
      "5\n",
      "4\n",
      "3\n",
      "2\n",
      "1\n"
     ]
    }
   ],
   "source": [
    "head = None\n",
    "\n",
    "# Add five nodes to the beginning of the linked structure\n",
    "for count in range(1, 6):\n",
    "    head = Node(count, head)\n",
    "\n",
    "print(head)\n",
    "\n",
    "# Print the contents of the structure\n",
    "while head != None:\n",
    "    print(head.data)\n",
    "    head = head.next"
   ]
  },
  {
   "cell_type": "code",
   "execution_count": 9,
   "metadata": {},
   "outputs": [
    {
     "name": "stdout",
     "output_type": "stream",
     "text": [
      "None\n"
     ]
    }
   ],
   "source": [
    "print(head)"
   ]
  },
  {
   "cell_type": "markdown",
   "metadata": {},
   "source": [
    "## 遍历"
   ]
  },
  {
   "cell_type": "code",
   "execution_count": 33,
   "metadata": {},
   "outputs": [
    {
     "name": "stdout",
     "output_type": "stream",
     "text": [
      "<__main__.Node object at 0x105478a20>\n"
     ]
    }
   ],
   "source": [
    "D3 = Node('D3', None)\n",
    "D2 = Node('D2', D3)\n",
    "D1 = Node('D1', D2)\n",
    "head = Node(None, D1)\n",
    "\n",
    "print(head)"
   ]
  },
  {
   "cell_type": "code",
   "execution_count": 34,
   "metadata": {},
   "outputs": [
    {
     "name": "stdout",
     "output_type": "stream",
     "text": [
      "None\n",
      "D1\n",
      "D2\n",
      "D3\n",
      "\n",
      "\n",
      " None \n",
      "\n",
      " <__main__.Node object at 0x105478a20>\n"
     ]
    }
   ],
   "source": [
    "probe = head\n",
    "\n",
    "while probe != None:\n",
    "    print(probe.data)\n",
    "    probe = probe.next\n",
    "    \n",
    "print('\\n\\n', probe, '\\n\\n', head)"
   ]
  },
  {
   "cell_type": "markdown",
   "metadata": {},
   "source": [
    "## 搜索"
   ]
  },
  {
   "cell_type": "code",
   "execution_count": 35,
   "metadata": {},
   "outputs": [
    {
     "name": "stdout",
     "output_type": "stream",
     "text": [
      "D2 has been found in the linked structure.\n"
     ]
    }
   ],
   "source": [
    "probe = head\n",
    "targetItem = 'D2'\n",
    "\n",
    "while probe != None and targetItem != probe.data:\n",
    "    probe = probe.next\n",
    "if probe != None:\n",
    "    print(targetItem, \"has been found in the linked structure.\")\n",
    "else:\n",
    "    print(targetItem, \"is not in the linked structure.\")"
   ]
  },
  {
   "cell_type": "markdown",
   "metadata": {},
   "source": [
    "单链表的顺序搜索是线性的, 访问链接表中第𝒾项, 也是一次顺序搜索操作.\n",
    "\n",
    "### 访问第𝒾项"
   ]
  },
  {
   "cell_type": "code",
   "execution_count": 36,
   "metadata": {},
   "outputs": [
    {
     "name": "stdout",
     "output_type": "stream",
     "text": [
      "D3\n"
     ]
    }
   ],
   "source": [
    "# Assumes 0 <= index < n (n: the number of nodes)\n",
    "probe = head\n",
    "\n",
    "index = 3\n",
    "\n",
    "while index > 0:\n",
    "    probe = probe.next\n",
    "    index -= 1\n",
    "    \n",
    "print(probe.data)"
   ]
  },
  {
   "cell_type": "markdown",
   "metadata": {},
   "source": [
    "## 替换\n",
    "先搜索, 再替换"
   ]
  },
  {
   "cell_type": "code",
   "execution_count": 37,
   "metadata": {},
   "outputs": [
    {
     "name": "stdout",
     "output_type": "stream",
     "text": [
      "D4 can not been found in the linked structure.\n"
     ]
    }
   ],
   "source": [
    "probe = head\n",
    "targetItem = 'D4'\n",
    "newItem = 'D33'\n",
    "\n",
    "while probe != None and targetItem != probe.data:\n",
    "    probe = probe.next\n",
    "if probe != None:\n",
    "    probe.data = newItem\n",
    "    print(targetItem, \"has been replaced with\", newItem)\n",
    "else:\n",
    "    print(\"%s can not been found in the linked structure.\" %targetItem)"
   ]
  },
  {
   "cell_type": "markdown",
   "metadata": {},
   "source": [
    "### 替换第i项"
   ]
  },
  {
   "cell_type": "code",
   "execution_count": 38,
   "metadata": {},
   "outputs": [
    {
     "name": "stdout",
     "output_type": "stream",
     "text": [
      "D33\n",
      "D3\n",
      "None\n"
     ]
    }
   ],
   "source": [
    "# Assume 0 <= index < n\n",
    "# 先找到第i项, 再替换\n",
    "probe = head\n",
    "\n",
    "index = 2\n",
    "newItem = 'D33'\n",
    "\n",
    "while index > 0:\n",
    "    probe = probe.next\n",
    "    index -= 1\n",
    "probe.data = newItem\n",
    "\n",
    "while probe != None:\n",
    "    print(probe.data)\n",
    "    probe = probe.next\n",
    "\n",
    "print(probe)"
   ]
  },
  {
   "cell_type": "code",
   "execution_count": 39,
   "metadata": {},
   "outputs": [
    {
     "name": "stdout",
     "output_type": "stream",
     "text": [
      "None\n",
      "D1\n",
      "D33\n",
      "D3\n"
     ]
    }
   ],
   "source": [
    "probe = head\n",
    "\n",
    "while probe != None:\n",
    "    print(probe.data)\n",
    "    probe = probe.next"
   ]
  },
  {
   "cell_type": "markdown",
   "metadata": {},
   "source": [
    "## 在开始初插入"
   ]
  },
  {
   "cell_type": "code",
   "execution_count": 40,
   "metadata": {},
   "outputs": [
    {
     "name": "stdout",
     "output_type": "stream",
     "text": [
      "D0\n",
      "None\n",
      "D1\n",
      "D33\n",
      "D3\n"
     ]
    }
   ],
   "source": [
    "newItem = 'D0'\n",
    "head = Node(newItem, head)\n",
    "\n",
    "probe = head\n",
    "\n",
    "while probe != None:\n",
    "    print(probe.data)\n",
    "    probe = probe.next"
   ]
  },
  {
   "cell_type": "markdown",
   "metadata": {},
   "source": [
    "不需要复制数据并向下移动, 时间和内存都是常数."
   ]
  },
  {
   "cell_type": "markdown",
   "metadata": {},
   "source": [
    "## 在末尾插入\n",
    "- head指针为None时, 将head指针设置为新的节点\n",
    "- head指针不为None时, 遍历到最后节点再将next指针指向新的节点"
   ]
  },
  {
   "cell_type": "code",
   "execution_count": 41,
   "metadata": {},
   "outputs": [
    {
     "name": "stdout",
     "output_type": "stream",
     "text": [
      "D0\n",
      "None\n",
      "D1\n",
      "D33\n",
      "D3\n",
      "newItem\n"
     ]
    }
   ],
   "source": [
    "newNode = Node('newItem')\n",
    "\n",
    "if head is None:\n",
    "    head = newNode\n",
    "else:\n",
    "    probe = head\n",
    "    while probe.next != None:\n",
    "        probe = probe.next\n",
    "    probe.next = newNode\n",
    "\n",
    "probe = head\n",
    "while probe != None:\n",
    "    print(probe.data)\n",
    "    probe = probe.next"
   ]
  },
  {
   "cell_type": "markdown",
   "metadata": {},
   "source": [
    "## 从开始处删除\n",
    "返回删除项"
   ]
  },
  {
   "cell_type": "code",
   "execution_count": 44,
   "metadata": {},
   "outputs": [
    {
     "name": "stdout",
     "output_type": "stream",
     "text": [
      "None \n",
      "\n",
      "D1\n",
      "D33\n",
      "D3\n",
      "newItem\n"
     ]
    }
   ],
   "source": [
    "# Assume at least one node in the structure\n",
    "removeItem = head.data\n",
    "head = head.next\n",
    "print(removeItem, '\\n')\n",
    "\n",
    "probe = head\n",
    "while probe != None:\n",
    "    print(probe.data)\n",
    "    probe = probe.next"
   ]
  },
  {
   "cell_type": "markdown",
   "metadata": {},
   "source": [
    "## 从末尾删除\n"
   ]
  },
  {
   "cell_type": "code",
   "execution_count": 45,
   "metadata": {},
   "outputs": [],
   "source": [
    "# To be continued"
   ]
  },
  {
   "cell_type": "markdown",
   "metadata": {},
   "source": [
    "# 双向链表"
   ]
  },
  {
   "cell_type": "code",
   "execution_count": 46,
   "metadata": {},
   "outputs": [],
   "source": [
    "class TwoWayNode(Node):\n",
    "    def __init__(self, data, previous = None, next = None):\n",
    "        \"\"\"Instantiates a TwoWayNode\"\"\"\n",
    "        Node.__init__(self, data, next)\n",
    "        self.previous = previous"
   ]
  },
  {
   "cell_type": "code",
   "execution_count": 47,
   "metadata": {},
   "outputs": [],
   "source": [
    "# Create a doubly linked structure with one node\n",
    "head = TwoWayNode(1)\n",
    "tail = head"
   ]
  },
  {
   "cell_type": "code",
   "execution_count": 49,
   "metadata": {},
   "outputs": [],
   "source": [
    "# Add four nodes to the end of the doubly linked structure\n",
    "for data in range(2, 6):\n",
    "    tail.next = TwoWayNode(data, tail)\n",
    "    tail = tail.next"
   ]
  },
  {
   "cell_type": "code",
   "execution_count": 50,
   "metadata": {},
   "outputs": [
    {
     "name": "stdout",
     "output_type": "stream",
     "text": [
      "5\n",
      "4\n",
      "3\n",
      "2\n",
      "1\n"
     ]
    }
   ],
   "source": [
    "# Print the contents of the linked structure in reverse order\n",
    "probe = tail\n",
    "\n",
    "while probe != None:\n",
    "    print(probe.data)\n",
    "    probe = probe.previous"
   ]
  },
  {
   "cell_type": "code",
   "execution_count": 51,
   "metadata": {},
   "outputs": [
    {
     "data": {
      "text/plain": [
       "['__class__',\n",
       " '__delattr__',\n",
       " '__dict__',\n",
       " '__dir__',\n",
       " '__doc__',\n",
       " '__eq__',\n",
       " '__format__',\n",
       " '__ge__',\n",
       " '__getattribute__',\n",
       " '__gt__',\n",
       " '__hash__',\n",
       " '__init__',\n",
       " '__init_subclass__',\n",
       " '__le__',\n",
       " '__lt__',\n",
       " '__module__',\n",
       " '__ne__',\n",
       " '__new__',\n",
       " '__reduce__',\n",
       " '__reduce_ex__',\n",
       " '__repr__',\n",
       " '__setattr__',\n",
       " '__sizeof__',\n",
       " '__str__',\n",
       " '__subclasshook__',\n",
       " '__weakref__']"
      ]
     },
     "execution_count": 51,
     "metadata": {},
     "output_type": "execute_result"
    }
   ],
   "source": [
    "dir(Node)"
   ]
  }
 ],
 "metadata": {
  "kernelspec": {
   "display_name": "Python 3",
   "language": "python",
   "name": "python3"
  },
  "language_info": {
   "codemirror_mode": {
    "name": "ipython",
    "version": 3
   },
   "file_extension": ".py",
   "mimetype": "text/x-python",
   "name": "python",
   "nbconvert_exporter": "python",
   "pygments_lexer": "ipython3",
   "version": "3.6.4"
  }
 },
 "nbformat": 4,
 "nbformat_minor": 2
}
