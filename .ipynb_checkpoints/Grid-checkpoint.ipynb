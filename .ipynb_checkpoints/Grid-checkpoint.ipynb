{
 "cells": [
  {
   "cell_type": "code",
   "execution_count": 1,
   "metadata": {},
   "outputs": [],
   "source": [
    "from arrays import Array"
   ]
  },
  {
   "cell_type": "code",
   "execution_count": 11,
   "metadata": {},
   "outputs": [],
   "source": [
    "class Grid():\n",
    "    \"\"\"Represents a two-dimensional array.\"\"\"\n",
    "    \n",
    "    def __init__(self, rows, columns, fillValue = None):\n",
    "        self._data = Array(rows)\n",
    "        for row in range(rows):\n",
    "            self._data[row] = Array(columns, fillValue)\n",
    "            \n",
    "    def getHeight(self):\n",
    "        \"\"\"Return the number of rows.\"\"\"\n",
    "        return len(self._data)\n",
    "    \n",
    "    def getWidth(self):\n",
    "        \"\"\"Return the number of columns.\"\"\"\n",
    "        return len(self._data[0])\n",
    "    \n",
    "    def __getitem__(self, index):\n",
    "        \"\"\"Support two-dimensional indexing with [row][column].\"\"\"\n",
    "        return self._data[index]\n",
    "    \n",
    "    def __str__(self):\n",
    "        \"\"\"Return a string representation of the grid.\"\"\"\n",
    "        result = \"\"\n",
    "        for row in range(self.getHeight()):\n",
    "            for col in range(self.getWidth()):\n",
    "                result += str(self._data[row][col]) + \" \"\n",
    "            result += \"\\n\"\n",
    "        return result"
   ]
  },
  {
   "cell_type": "code",
   "execution_count": 12,
   "metadata": {},
   "outputs": [
    {
     "name": "stdout",
     "output_type": "stream",
     "text": [
      "0 0 0 0 0 \n",
      "0 0 0 0 0 \n",
      "0 0 0 0 0 \n",
      "\n"
     ]
    }
   ],
   "source": [
    "a = Grid(3, 5, fillValue=0)\n",
    "print(a)"
   ]
  },
  {
   "cell_type": "code",
   "execution_count": 13,
   "metadata": {},
   "outputs": [
    {
     "data": {
      "text/plain": [
       "3"
      ]
     },
     "execution_count": 13,
     "metadata": {},
     "output_type": "execute_result"
    }
   ],
   "source": [
    "a.getHeight()"
   ]
  },
  {
   "cell_type": "code",
   "execution_count": 14,
   "metadata": {},
   "outputs": [
    {
     "data": {
      "text/plain": [
       "5"
      ]
     },
     "execution_count": 14,
     "metadata": {},
     "output_type": "execute_result"
    }
   ],
   "source": [
    "a.getWidth()"
   ]
  },
  {
   "cell_type": "code",
   "execution_count": 15,
   "metadata": {},
   "outputs": [
    {
     "data": {
      "text/plain": [
       "'0 0 0 0 0 \\n0 0 0 0 0 \\n0 0 0 0 0 \\n'"
      ]
     },
     "execution_count": 15,
     "metadata": {},
     "output_type": "execute_result"
    }
   ],
   "source": [
    "str(a)"
   ]
  },
  {
   "cell_type": "code",
   "execution_count": 17,
   "metadata": {},
   "outputs": [
    {
     "data": {
      "text/plain": [
       "0"
      ]
     },
     "execution_count": 17,
     "metadata": {},
     "output_type": "execute_result"
    }
   ],
   "source": [
    "a[2][3]"
   ]
  }
 ],
 "metadata": {
  "kernelspec": {
   "display_name": "Python 3",
   "language": "python",
   "name": "python3"
  },
  "language_info": {
   "codemirror_mode": {
    "name": "ipython",
    "version": 3
   },
   "file_extension": ".py",
   "mimetype": "text/x-python",
   "name": "python",
   "nbconvert_exporter": "python",
   "pygments_lexer": "ipython3",
   "version": "3.6.4"
  }
 },
 "nbformat": 4,
 "nbformat_minor": 2
}
